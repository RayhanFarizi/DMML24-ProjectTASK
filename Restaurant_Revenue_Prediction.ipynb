{
  "cells": [
    {
      "cell_type": "markdown",
      "metadata": {
        "id": "2n1DTWcAC9Hc"
      },
      "source": [
        "#Data Wrangling"
      ]
    },
    {
      "cell_type": "code",
      "execution_count": 2,
      "metadata": {
        "id": "tlooZFtA1eRy"
      },
      "outputs": [],
      "source": [
        "#mengimport library yang akan digunakan\n",
        "import pandas as pd\n",
        "import numpy as np\n",
        "import seaborn as sns\n",
        "import matplotlib.pyplot as plt\n",
        "from sklearn.preprocessing import LabelEncoder\n",
        "from sklearn.model_selection import train_test_split\n",
        "from sklearn.linear_model import LinearRegression\n",
        "from sklearn.ensemble import RandomForestRegressor\n",
        "from sklearn.metrics import mean_absolute_error, mean_squared_error, r2_score"
      ]
    },
    {
      "cell_type": "code",
      "execution_count": 3,
      "metadata": {
        "id": "5wxnBMQ0tHTR"
      },
      "outputs": [],
      "source": [
        "# Memuat dataset\n",
        "df = pd.read_csv('Restaurant_revenue.csv')"
      ]
    },
    {
      "cell_type": "code",
      "execution_count": 4,
      "metadata": {
        "colab": {
          "base_uri": "https://localhost:8080/",
          "height": 206
        },
        "id": "smeo5JevDzF6",
        "outputId": "be762672-bce1-47b1-db70-62b2011c7713"
      },
      "outputs": [
        {
          "data": {
            "text/html": [
              "<div>\n",
              "<style scoped>\n",
              "    .dataframe tbody tr th:only-of-type {\n",
              "        vertical-align: middle;\n",
              "    }\n",
              "\n",
              "    .dataframe tbody tr th {\n",
              "        vertical-align: top;\n",
              "    }\n",
              "\n",
              "    .dataframe thead th {\n",
              "        text-align: right;\n",
              "    }\n",
              "</style>\n",
              "<table border=\"1\" class=\"dataframe\">\n",
              "  <thead>\n",
              "    <tr style=\"text-align: right;\">\n",
              "      <th></th>\n",
              "      <th>Number_of_Customers</th>\n",
              "      <th>Menu_Price</th>\n",
              "      <th>Marketing_Spend</th>\n",
              "      <th>Cuisine_Type</th>\n",
              "      <th>Average_Customer_Spending</th>\n",
              "      <th>Promotions</th>\n",
              "      <th>Reviews</th>\n",
              "      <th>Monthly_Revenue</th>\n",
              "    </tr>\n",
              "  </thead>\n",
              "  <tbody>\n",
              "    <tr>\n",
              "      <th>0</th>\n",
              "      <td>61</td>\n",
              "      <td>43.117635</td>\n",
              "      <td>12.663793</td>\n",
              "      <td>Japanese</td>\n",
              "      <td>36.236133</td>\n",
              "      <td>0</td>\n",
              "      <td>45</td>\n",
              "      <td>350.912040</td>\n",
              "    </tr>\n",
              "    <tr>\n",
              "      <th>1</th>\n",
              "      <td>24</td>\n",
              "      <td>40.020077</td>\n",
              "      <td>4.577892</td>\n",
              "      <td>Italian</td>\n",
              "      <td>17.952562</td>\n",
              "      <td>0</td>\n",
              "      <td>36</td>\n",
              "      <td>221.319091</td>\n",
              "    </tr>\n",
              "    <tr>\n",
              "      <th>2</th>\n",
              "      <td>81</td>\n",
              "      <td>41.981485</td>\n",
              "      <td>4.652911</td>\n",
              "      <td>Japanese</td>\n",
              "      <td>22.600420</td>\n",
              "      <td>1</td>\n",
              "      <td>91</td>\n",
              "      <td>326.529763</td>\n",
              "    </tr>\n",
              "    <tr>\n",
              "      <th>3</th>\n",
              "      <td>70</td>\n",
              "      <td>43.005307</td>\n",
              "      <td>4.416053</td>\n",
              "      <td>Italian</td>\n",
              "      <td>18.984098</td>\n",
              "      <td>1</td>\n",
              "      <td>59</td>\n",
              "      <td>348.190573</td>\n",
              "    </tr>\n",
              "    <tr>\n",
              "      <th>4</th>\n",
              "      <td>30</td>\n",
              "      <td>17.456199</td>\n",
              "      <td>3.475052</td>\n",
              "      <td>Italian</td>\n",
              "      <td>12.766143</td>\n",
              "      <td>1</td>\n",
              "      <td>30</td>\n",
              "      <td>185.009121</td>\n",
              "    </tr>\n",
              "  </tbody>\n",
              "</table>\n",
              "</div>"
            ],
            "text/plain": [
              "   Number_of_Customers  Menu_Price  Marketing_Spend Cuisine_Type  \\\n",
              "0                   61   43.117635        12.663793     Japanese   \n",
              "1                   24   40.020077         4.577892      Italian   \n",
              "2                   81   41.981485         4.652911     Japanese   \n",
              "3                   70   43.005307         4.416053      Italian   \n",
              "4                   30   17.456199         3.475052      Italian   \n",
              "\n",
              "   Average_Customer_Spending  Promotions  Reviews  Monthly_Revenue  \n",
              "0                  36.236133           0       45       350.912040  \n",
              "1                  17.952562           0       36       221.319091  \n",
              "2                  22.600420           1       91       326.529763  \n",
              "3                  18.984098           1       59       348.190573  \n",
              "4                  12.766143           1       30       185.009121  "
            ]
          },
          "execution_count": 4,
          "metadata": {},
          "output_type": "execute_result"
        }
      ],
      "source": [
        "# Tampilkan beberapa baris pertama dari dataset\n",
        "df.head()"
      ]
    },
    {
      "cell_type": "code",
      "execution_count": 5,
      "metadata": {
        "colab": {
          "base_uri": "https://localhost:8080/"
        },
        "id": "iQJzner6EDCi",
        "outputId": "5366da11-3ced-43fd-f72b-a75513928af8"
      },
      "outputs": [
        {
          "name": "stdout",
          "output_type": "stream",
          "text": [
            "<class 'pandas.core.frame.DataFrame'>\n",
            "RangeIndex: 1000 entries, 0 to 999\n",
            "Data columns (total 8 columns):\n",
            " #   Column                     Non-Null Count  Dtype  \n",
            "---  ------                     --------------  -----  \n",
            " 0   Number_of_Customers        1000 non-null   int64  \n",
            " 1   Menu_Price                 1000 non-null   float64\n",
            " 2   Marketing_Spend            1000 non-null   float64\n",
            " 3   Cuisine_Type               1000 non-null   object \n",
            " 4   Average_Customer_Spending  1000 non-null   float64\n",
            " 5   Promotions                 1000 non-null   int64  \n",
            " 6   Reviews                    1000 non-null   int64  \n",
            " 7   Monthly_Revenue            1000 non-null   float64\n",
            "dtypes: float64(4), int64(3), object(1)\n",
            "memory usage: 62.6+ KB\n"
          ]
        }
      ],
      "source": [
        "#menampilkan informasi dari dataset\n",
        "df.info()"
      ]
    },
    {
      "cell_type": "code",
      "execution_count": 6,
      "metadata": {
        "colab": {
          "base_uri": "https://localhost:8080/",
          "height": 300
        },
        "id": "T_tQ3e4HFbQ-",
        "outputId": "069e1f37-6885-4547-d8d0-d7f99aad28c9"
      },
      "outputs": [
        {
          "data": {
            "text/html": [
              "<div>\n",
              "<style scoped>\n",
              "    .dataframe tbody tr th:only-of-type {\n",
              "        vertical-align: middle;\n",
              "    }\n",
              "\n",
              "    .dataframe tbody tr th {\n",
              "        vertical-align: top;\n",
              "    }\n",
              "\n",
              "    .dataframe thead th {\n",
              "        text-align: right;\n",
              "    }\n",
              "</style>\n",
              "<table border=\"1\" class=\"dataframe\">\n",
              "  <thead>\n",
              "    <tr style=\"text-align: right;\">\n",
              "      <th></th>\n",
              "      <th>Number_of_Customers</th>\n",
              "      <th>Menu_Price</th>\n",
              "      <th>Marketing_Spend</th>\n",
              "      <th>Average_Customer_Spending</th>\n",
              "      <th>Promotions</th>\n",
              "      <th>Reviews</th>\n",
              "      <th>Monthly_Revenue</th>\n",
              "    </tr>\n",
              "  </thead>\n",
              "  <tbody>\n",
              "    <tr>\n",
              "      <th>count</th>\n",
              "      <td>1000.000000</td>\n",
              "      <td>1000.000000</td>\n",
              "      <td>1000.000000</td>\n",
              "      <td>1000.000000</td>\n",
              "      <td>1000.000000</td>\n",
              "      <td>1000.000000</td>\n",
              "      <td>1000.000000</td>\n",
              "    </tr>\n",
              "    <tr>\n",
              "      <th>mean</th>\n",
              "      <td>53.271000</td>\n",
              "      <td>30.219120</td>\n",
              "      <td>9.958726</td>\n",
              "      <td>29.477085</td>\n",
              "      <td>0.497000</td>\n",
              "      <td>49.837000</td>\n",
              "      <td>268.724172</td>\n",
              "    </tr>\n",
              "    <tr>\n",
              "      <th>std</th>\n",
              "      <td>26.364914</td>\n",
              "      <td>11.278760</td>\n",
              "      <td>5.845586</td>\n",
              "      <td>11.471686</td>\n",
              "      <td>0.500241</td>\n",
              "      <td>29.226334</td>\n",
              "      <td>103.982950</td>\n",
              "    </tr>\n",
              "    <tr>\n",
              "      <th>min</th>\n",
              "      <td>10.000000</td>\n",
              "      <td>10.009501</td>\n",
              "      <td>0.003768</td>\n",
              "      <td>10.037177</td>\n",
              "      <td>0.000000</td>\n",
              "      <td>0.000000</td>\n",
              "      <td>-28.977809</td>\n",
              "    </tr>\n",
              "    <tr>\n",
              "      <th>25%</th>\n",
              "      <td>30.000000</td>\n",
              "      <td>20.396828</td>\n",
              "      <td>4.690724</td>\n",
              "      <td>19.603041</td>\n",
              "      <td>0.000000</td>\n",
              "      <td>24.000000</td>\n",
              "      <td>197.103642</td>\n",
              "    </tr>\n",
              "    <tr>\n",
              "      <th>50%</th>\n",
              "      <td>54.000000</td>\n",
              "      <td>30.860614</td>\n",
              "      <td>10.092047</td>\n",
              "      <td>29.251365</td>\n",
              "      <td>0.000000</td>\n",
              "      <td>50.000000</td>\n",
              "      <td>270.213964</td>\n",
              "    </tr>\n",
              "    <tr>\n",
              "      <th>75%</th>\n",
              "      <td>74.000000</td>\n",
              "      <td>39.843868</td>\n",
              "      <td>14.992436</td>\n",
              "      <td>39.553220</td>\n",
              "      <td>1.000000</td>\n",
              "      <td>76.000000</td>\n",
              "      <td>343.395793</td>\n",
              "    </tr>\n",
              "    <tr>\n",
              "      <th>max</th>\n",
              "      <td>99.000000</td>\n",
              "      <td>49.974140</td>\n",
              "      <td>19.994276</td>\n",
              "      <td>49.900725</td>\n",
              "      <td>1.000000</td>\n",
              "      <td>99.000000</td>\n",
              "      <td>563.381332</td>\n",
              "    </tr>\n",
              "  </tbody>\n",
              "</table>\n",
              "</div>"
            ],
            "text/plain": [
              "       Number_of_Customers   Menu_Price  Marketing_Spend  \\\n",
              "count          1000.000000  1000.000000      1000.000000   \n",
              "mean             53.271000    30.219120         9.958726   \n",
              "std              26.364914    11.278760         5.845586   \n",
              "min              10.000000    10.009501         0.003768   \n",
              "25%              30.000000    20.396828         4.690724   \n",
              "50%              54.000000    30.860614        10.092047   \n",
              "75%              74.000000    39.843868        14.992436   \n",
              "max              99.000000    49.974140        19.994276   \n",
              "\n",
              "       Average_Customer_Spending   Promotions      Reviews  Monthly_Revenue  \n",
              "count                1000.000000  1000.000000  1000.000000      1000.000000  \n",
              "mean                   29.477085     0.497000    49.837000       268.724172  \n",
              "std                    11.471686     0.500241    29.226334       103.982950  \n",
              "min                    10.037177     0.000000     0.000000       -28.977809  \n",
              "25%                    19.603041     0.000000    24.000000       197.103642  \n",
              "50%                    29.251365     0.000000    50.000000       270.213964  \n",
              "75%                    39.553220     1.000000    76.000000       343.395793  \n",
              "max                    49.900725     1.000000    99.000000       563.381332  "
            ]
          },
          "execution_count": 6,
          "metadata": {},
          "output_type": "execute_result"
        }
      ],
      "source": [
        "#untuk melihat statistik deskriptif dari dataset\n",
        "df.describe()"
      ]
    },
    {
      "cell_type": "code",
      "execution_count": 7,
      "metadata": {
        "colab": {
          "base_uri": "https://localhost:8080/"
        },
        "id": "mJvS7PeyEL52",
        "outputId": "217d5955-b0af-40ec-f9e2-b3d7be1d0424"
      },
      "outputs": [
        {
          "data": {
            "text/plain": [
              "Number_of_Customers          0\n",
              "Menu_Price                   0\n",
              "Marketing_Spend              0\n",
              "Cuisine_Type                 0\n",
              "Average_Customer_Spending    0\n",
              "Promotions                   0\n",
              "Reviews                      0\n",
              "Monthly_Revenue              0\n",
              "dtype: int64"
            ]
          },
          "execution_count": 7,
          "metadata": {},
          "output_type": "execute_result"
        }
      ],
      "source": [
        "#melihat nilai null\n",
        "df.isnull().sum()"
      ]
    },
    {
      "cell_type": "code",
      "execution_count": 8,
      "metadata": {
        "colab": {
          "base_uri": "https://localhost:8080/"
        },
        "id": "sbZ80FqYEZgY",
        "outputId": "d46505a1-755b-4216-8ef2-992f6bb0c16d"
      },
      "outputs": [
        {
          "name": "stdout",
          "output_type": "stream",
          "text": [
            "0\n"
          ]
        }
      ],
      "source": [
        "# Mengecek apakah ada duplikat\n",
        "duplikat = df.duplicated()\n",
        "print(duplikat.sum())  # Jumlah baris duplikat"
      ]
    },
    {
      "cell_type": "markdown",
      "metadata": {
        "id": "cCA5J9KYFwaD"
      },
      "source": [
        "#Eksplorasi Data"
      ]
    },
    {
      "cell_type": "code",
      "execution_count": 9,
      "metadata": {
        "colab": {
          "base_uri": "https://localhost:8080/",
          "height": 1000
        },
        "id": "GpH5YyH7E2DD",
        "outputId": "3cc0b8d9-91b5-43dd-9536-bcd325d0ea4e"
      },
      "outputs": [
        {
          "data": {
            "image/png": "[encoded data removed]",
            "text/plain": [
              "<Figure size 432x288 with 1 Axes>"
            ]
          },
          "metadata": {
            "needs_background": "light"
          },
          "output_type": "display_data"
        },
        {
          "data": {
            "image/png": "[encoded data removed]",
            "text/plain": [
              "<Figure size 432x288 with 1 Axes>"
            ]
          },
          "metadata": {
            "needs_background": "light"
          },
          "output_type": "display_data"
        },
        {
          "data": {
            "image/png": "[encoded data removed]",
            "text/plain": [
              "<Figure size 432x288 with 1 Axes>"
            ]
          },
          "metadata": {
            "needs_background": "light"
          },
          "output_type": "display_data"
        },
        {
          "data": {
            "image/png": "[encoded data removed]",
            "text/plain": [
              "<Figure size 432x288 with 1 Axes>"
            ]
          },
          "metadata": {
            "needs_background": "light"
          },
          "output_type": "display_data"
        },
        {
          "data": {
            "image/png": "[encoded data removed]",
            "text/plain": [
              "<Figure size 432x288 with 1 Axes>"
            ]
          },
          "metadata": {
            "needs_background": "light"
          },
          "output_type": "display_data"
        },
        {
          "data": {
            "image/png": "[encoded data removed]",
            "text/plain": [
              "<Figure size 432x288 with 1 Axes>"
            ]
          },
          "metadata": {
            "needs_background": "light"
          },
          "output_type": "display_data"
        },
        {
          "data": {
            "image/png": "[encoded data removed]",
            "text/plain": [
              "<Figure size 432x288 with 1 Axes>"
            ]
          },
          "metadata": {
            "needs_background": "light"
          },
          "output_type": "display_data"
        }
      ],
      "source": [
        "# membuat histogram dari setiap kolom numerik\n",
        "for col in df.columns:\n",
        "    if df[col].dtype != 'object':\n",
        "        sns.histplot(df[col])\n",
        "        plt.xlabel(col)\n",
        "        plt.ylabel('count')\n",
        "        plt.show()"
      ]
    },
    {
      "cell_type": "code",
      "execution_count": 10,
      "metadata": {
        "colab": {
          "base_uri": "https://localhost:8080/",
          "height": 1000
        },
        "id": "5KAbnUa_IF41",
        "outputId": "3e06fce2-a6ff-4fc4-9701-ced96501eea2"
      },
      "outputs": [
        {
          "data": {
            "image/png": "[encoded data removed]",
            "text/plain": [
              "<Figure size 432x288 with 1 Axes>"
            ]
          },
          "metadata": {
            "needs_background": "light"
          },
          "output_type": "display_data"
        },
        {
          "data": {
            "image/png": "[encoded data removed]",
            "text/plain": [
              "<Figure size 432x288 with 1 Axes>"
            ]
          },
          "metadata": {
            "needs_background": "light"
          },
          "output_type": "display_data"
        },
        {
          "data": {
            "image/png": "[encoded data removed]",
            "text/plain": [
              "<Figure size 432x288 with 1 Axes>"
            ]
          },
          "metadata": {
            "needs_background": "light"
          },
          "output_type": "display_data"
        },
        {
          "data": {
            "image/png": "[encoded data removed]",
            "text/plain": [
              "<Figure size 432x288 with 1 Axes>"
            ]
          },
          "metadata": {
            "needs_background": "light"
          },
          "output_type": "display_data"
        },
        {
          "data": {
            "image/png": "[encoded data removed]",
            "text/plain": [
              "<Figure size 432x288 with 1 Axes>"
            ]
          },
          "metadata": {
            "needs_background": "light"
          },
          "output_type": "display_data"
        },
        {
          "data": {
            "image/png": "[encoded data removed]",
            "text/plain": [
              "<Figure size 432x288 with 1 Axes>"
            ]
          },
          "metadata": {
            "needs_background": "light"
          },
          "output_type": "display_data"
        },
        {
          "data": {
            "image/png": "[encoded data removed]",
            "text/plain": [
              "<Figure size 432x288 with 1 Axes>"
            ]
          },
          "metadata": {
            "needs_background": "light"
          },
          "output_type": "display_data"
        }
      ],
      "source": [
        "#mengecek outliers\n",
        "for col in df.columns:\n",
        "    if df[col].dtype != 'object':\n",
        "        sns.boxplot(df[col])\n",
        "        plt.xlabel(col)\n",
        "        plt.ylabel('count')\n",
        "        plt.show()"
      ]
    },
    {
      "cell_type": "code",
      "execution_count": 11,
      "metadata": {
        "id": "br3oWS4IKTAu"
      },
      "outputs": [],
      "source": [
        "# mengonversi variabel kategorikal menjadi numerik sehingga dapat digunakan oleh algoritma machine learning\n",
        "# Inisialisasi Label Encoder\n",
        "label_encoder = LabelEncoder()"
      ]
    },
    {
      "cell_type": "code",
      "execution_count": 12,
      "metadata": {
        "id": "PXfxkDlXIR2J"
      },
      "outputs": [],
      "source": [
        "df['Cuisine_Type'] = label_encoder.fit_transform(df['Cuisine_Type'])"
      ]
    },
    {
      "cell_type": "code",
      "execution_count": 13,
      "metadata": {
        "id": "_6dosKJ9KdYr"
      },
      "outputs": [],
      "source": [
        "X = df[['Number_of_Customers', 'Menu_Price', 'Marketing_Spend', 'Cuisine_Type', 'Average_Customer_Spending', 'Promotions', 'Reviews']]\n",
        "y = df['Monthly_Revenue']"
      ]
    },
    {
      "cell_type": "code",
      "execution_count": 14,
      "metadata": {
        "colab": {
          "base_uri": "https://localhost:8080/",
          "height": 424
        },
        "id": "e08i73WMN1Wd",
        "outputId": "6854adf5-b256-4c83-9f21-1f84ea0f5909"
      },
      "outputs": [
        {
          "data": {
            "text/html": [
              "<div>\n",
              "<style scoped>\n",
              "    .dataframe tbody tr th:only-of-type {\n",
              "        vertical-align: middle;\n",
              "    }\n",
              "\n",
              "    .dataframe tbody tr th {\n",
              "        vertical-align: top;\n",
              "    }\n",
              "\n",
              "    .dataframe thead th {\n",
              "        text-align: right;\n",
              "    }\n",
              "</style>\n",
              "<table border=\"1\" class=\"dataframe\">\n",
              "  <thead>\n",
              "    <tr style=\"text-align: right;\">\n",
              "      <th></th>\n",
              "      <th>Number_of_Customers</th>\n",
              "      <th>Menu_Price</th>\n",
              "      <th>Marketing_Spend</th>\n",
              "      <th>Cuisine_Type</th>\n",
              "      <th>Average_Customer_Spending</th>\n",
              "      <th>Promotions</th>\n",
              "      <th>Reviews</th>\n",
              "    </tr>\n",
              "  </thead>\n",
              "  <tbody>\n",
              "    <tr>\n",
              "      <th>0</th>\n",
              "      <td>61</td>\n",
              "      <td>43.117635</td>\n",
              "      <td>12.663793</td>\n",
              "      <td>2</td>\n",
              "      <td>36.236133</td>\n",
              "      <td>0</td>\n",
              "      <td>45</td>\n",
              "    </tr>\n",
              "    <tr>\n",
              "      <th>1</th>\n",
              "      <td>24</td>\n",
              "      <td>40.020077</td>\n",
              "      <td>4.577892</td>\n",
              "      <td>1</td>\n",
              "      <td>17.952562</td>\n",
              "      <td>0</td>\n",
              "      <td>36</td>\n",
              "    </tr>\n",
              "    <tr>\n",
              "      <th>2</th>\n",
              "      <td>81</td>\n",
              "      <td>41.981485</td>\n",
              "      <td>4.652911</td>\n",
              "      <td>2</td>\n",
              "      <td>22.600420</td>\n",
              "      <td>1</td>\n",
              "      <td>91</td>\n",
              "    </tr>\n",
              "    <tr>\n",
              "      <th>3</th>\n",
              "      <td>70</td>\n",
              "      <td>43.005307</td>\n",
              "      <td>4.416053</td>\n",
              "      <td>1</td>\n",
              "      <td>18.984098</td>\n",
              "      <td>1</td>\n",
              "      <td>59</td>\n",
              "    </tr>\n",
              "    <tr>\n",
              "      <th>4</th>\n",
              "      <td>30</td>\n",
              "      <td>17.456199</td>\n",
              "      <td>3.475052</td>\n",
              "      <td>1</td>\n",
              "      <td>12.766143</td>\n",
              "      <td>1</td>\n",
              "      <td>30</td>\n",
              "    </tr>\n",
              "    <tr>\n",
              "      <th>...</th>\n",
              "      <td>...</td>\n",
              "      <td>...</td>\n",
              "      <td>...</td>\n",
              "      <td>...</td>\n",
              "      <td>...</td>\n",
              "      <td>...</td>\n",
              "      <td>...</td>\n",
              "    </tr>\n",
              "    <tr>\n",
              "      <th>995</th>\n",
              "      <td>73</td>\n",
              "      <td>41.307842</td>\n",
              "      <td>12.122931</td>\n",
              "      <td>2</td>\n",
              "      <td>19.033585</td>\n",
              "      <td>1</td>\n",
              "      <td>40</td>\n",
              "    </tr>\n",
              "    <tr>\n",
              "      <th>996</th>\n",
              "      <td>31</td>\n",
              "      <td>20.615496</td>\n",
              "      <td>5.822885</td>\n",
              "      <td>3</td>\n",
              "      <td>17.040990</td>\n",
              "      <td>0</td>\n",
              "      <td>57</td>\n",
              "    </tr>\n",
              "    <tr>\n",
              "      <th>997</th>\n",
              "      <td>69</td>\n",
              "      <td>17.110656</td>\n",
              "      <td>4.141898</td>\n",
              "      <td>2</td>\n",
              "      <td>44.649315</td>\n",
              "      <td>0</td>\n",
              "      <td>55</td>\n",
              "    </tr>\n",
              "    <tr>\n",
              "      <th>998</th>\n",
              "      <td>73</td>\n",
              "      <td>37.664722</td>\n",
              "      <td>3.046556</td>\n",
              "      <td>2</td>\n",
              "      <td>27.767358</td>\n",
              "      <td>0</td>\n",
              "      <td>23</td>\n",
              "    </tr>\n",
              "    <tr>\n",
              "      <th>999</th>\n",
              "      <td>81</td>\n",
              "      <td>34.722067</td>\n",
              "      <td>17.989104</td>\n",
              "      <td>1</td>\n",
              "      <td>15.482112</td>\n",
              "      <td>1</td>\n",
              "      <td>72</td>\n",
              "    </tr>\n",
              "  </tbody>\n",
              "</table>\n",
              "<p>1000 rows × 7 columns</p>\n",
              "</div>"
            ],
            "text/plain": [
              "     Number_of_Customers  Menu_Price  Marketing_Spend  Cuisine_Type  \\\n",
              "0                     61   43.117635        12.663793             2   \n",
              "1                     24   40.020077         4.577892             1   \n",
              "2                     81   41.981485         4.652911             2   \n",
              "3                     70   43.005307         4.416053             1   \n",
              "4                     30   17.456199         3.475052             1   \n",
              "..                   ...         ...              ...           ...   \n",
              "995                   73   41.307842        12.122931             2   \n",
              "996                   31   20.615496         5.822885             3   \n",
              "997                   69   17.110656         4.141898             2   \n",
              "998                   73   37.664722         3.046556             2   \n",
              "999                   81   34.722067        17.989104             1   \n",
              "\n",
              "     Average_Customer_Spending  Promotions  Reviews  \n",
              "0                    36.236133           0       45  \n",
              "1                    17.952562           0       36  \n",
              "2                    22.600420           1       91  \n",
              "3                    18.984098           1       59  \n",
              "4                    12.766143           1       30  \n",
              "..                         ...         ...      ...  \n",
              "995                  19.033585           1       40  \n",
              "996                  17.040990           0       57  \n",
              "997                  44.649315           0       55  \n",
              "998                  27.767358           0       23  \n",
              "999                  15.482112           1       72  \n",
              "\n",
              "[1000 rows x 7 columns]"
            ]
          },
          "execution_count": 14,
          "metadata": {},
          "output_type": "execute_result"
        }
      ],
      "source": [
        "X"
      ]
    },
    {
      "cell_type": "code",
      "execution_count": 15,
      "metadata": {
        "colab": {
          "base_uri": "https://localhost:8080/"
        },
        "id": "QKprKIMZN2FO",
        "outputId": "792e3647-c82d-465b-d640-edbb9af1d8e7"
      },
      "outputs": [
        {
          "data": {
            "text/plain": [
              "0      350.912040\n",
              "1      221.319091\n",
              "2      326.529763\n",
              "3      348.190573\n",
              "4      185.009121\n",
              "          ...    \n",
              "995    249.312034\n",
              "996    110.228767\n",
              "997    312.212552\n",
              "998    272.482204\n",
              "999    379.973072\n",
              "Name: Monthly_Revenue, Length: 1000, dtype: float64"
            ]
          },
          "execution_count": 15,
          "metadata": {},
          "output_type": "execute_result"
        }
      ],
      "source": [
        "y"
      ]
    },
    {
      "cell_type": "code",
      "execution_count": 16,
      "metadata": {
        "id": "0giQUtubURvE"
      },
      "outputs": [],
      "source": [
        "from sklearn.preprocessing import StandardScaler\n",
        "sc = StandardScaler()\n",
        "X_scaled = sc.fit_transform(X)"
      ]
    },
    {
      "cell_type": "markdown",
      "metadata": {
        "id": "yJPVYSGDOlB2"
      },
      "source": [
        "#Evaluasi Model"
      ]
    },
    {
      "cell_type": "markdown",
      "metadata": {
        "id": "2MPuQBJkOrxd"
      },
      "source": [
        "Linear Regression :"
      ]
    },
    {
      "cell_type": "code",
      "execution_count": 17,
      "metadata": {
        "id": "pBi40DSxOn1o"
      },
      "outputs": [],
      "source": [
        "# Membagi data menjadi data pelatihan dan data uji\n",
        "X_train, X_test, y_train, y_test = train_test_split(X_scaled, y, test_size=0.2, random_state=42)"
      ]
    },
    {
      "cell_type": "code",
      "execution_count": 18,
      "metadata": {
        "colab": {
          "base_uri": "https://localhost:8080/",
          "height": 75
        },
        "id": "uli4OzB0O5TB",
        "outputId": "cb72fecc-e3cd-4784-e8d6-fab73196e833"
      },
      "outputs": [
        {
          "data": {
            "text/html": [
              "<style>#sk-container-id-1 {color: black;background-color: white;}#sk-container-id-1 pre{padding: 0;}#sk-container-id-1 div.sk-toggleable {background-color: white;}#sk-container-id-1 label.sk-toggleable__label {cursor: pointer;display: block;width: 100%;margin-bottom: 0;padding: 0.3em;box-sizing: border-box;text-align: center;}#sk-container-id-1 label.sk-toggleable__label-arrow:before {content: \"▸\";float: left;margin-right: 0.25em;color: #696969;}#sk-container-id-1 label.sk-toggleable__label-arrow:hover:before {color: black;}#sk-container-id-1 div.sk-estimator:hover label.sk-toggleable__label-arrow:before {color: black;}#sk-container-id-1 div.sk-toggleable__content {max-height: 0;max-width: 0;overflow: hidden;text-align: left;background-color: #f0f8ff;}#sk-container-id-1 div.sk-toggleable__content pre {margin: 0.2em;color: black;border-radius: 0.25em;background-color: #f0f8ff;}#sk-container-id-1 input.sk-toggleable__control:checked~div.sk-toggleable__content {max-height: 200px;max-width: 100%;overflow: auto;}#sk-container-id-1 input.sk-toggleable__control:checked~label.sk-toggleable__label-arrow:before {content: \"▾\";}#sk-container-id-1 div.sk-estimator input.sk-toggleable__control:checked~label.sk-toggleable__label {background-color: #d4ebff;}#sk-container-id-1 div.sk-label input.sk-toggleable__control:checked~label.sk-toggleable__label {background-color: #d4ebff;}#sk-container-id-1 input.sk-hidden--visually {border: 0;clip: rect(1px 1px 1px 1px);clip: rect(1px, 1px, 1px, 1px);height: 1px;margin: -1px;overflow: hidden;padding: 0;position: absolute;width: 1px;}#sk-container-id-1 div.sk-estimator {font-family: monospace;background-color: #f0f8ff;border: 1px dotted black;border-radius: 0.25em;box-sizing: border-box;margin-bottom: 0.5em;}#sk-container-id-1 div.sk-estimator:hover {background-color: #d4ebff;}#sk-container-id-1 div.sk-parallel-item::after {content: \"\";width: 100%;border-bottom: 1px solid gray;flex-grow: 1;}#sk-container-id-1 div.sk-label:hover label.sk-toggleable__label {background-color: #d4ebff;}#sk-container-id-1 div.sk-serial::before {content: \"\";position: absolute;border-left: 1px solid gray;box-sizing: border-box;top: 0;bottom: 0;left: 50%;z-index: 0;}#sk-container-id-1 div.sk-serial {display: flex;flex-direction: column;align-items: center;background-color: white;padding-right: 0.2em;padding-left: 0.2em;position: relative;}#sk-container-id-1 div.sk-item {position: relative;z-index: 1;}#sk-container-id-1 div.sk-parallel {display: flex;align-items: stretch;justify-content: center;background-color: white;position: relative;}#sk-container-id-1 div.sk-item::before, #sk-container-id-1 div.sk-parallel-item::before {content: \"\";position: absolute;border-left: 1px solid gray;box-sizing: border-box;top: 0;bottom: 0;left: 50%;z-index: -1;}#sk-container-id-1 div.sk-parallel-item {display: flex;flex-direction: column;z-index: 1;position: relative;background-color: white;}#sk-container-id-1 div.sk-parallel-item:first-child::after {align-self: flex-end;width: 50%;}#sk-container-id-1 div.sk-parallel-item:last-child::after {align-self: flex-start;width: 50%;}#sk-container-id-1 div.sk-parallel-item:only-child::after {width: 0;}#sk-container-id-1 div.sk-dashed-wrapped {border: 1px dashed gray;margin: 0 0.4em 0.5em 0.4em;box-sizing: border-box;padding-bottom: 0.4em;background-color: white;}#sk-container-id-1 div.sk-label label {font-family: monospace;font-weight: bold;display: inline-block;line-height: 1.2em;}#sk-container-id-1 div.sk-label-container {text-align: center;}#sk-container-id-1 div.sk-container {/* jupyter's `normalize.less` sets `[hidden] { display: none; }` but bootstrap.min.css set `[hidden] { display: none !important; }` so we also need the `!important` here to be able to override the default hidden behavior on the sphinx rendered scikit-learn.org. See: https://github.com/scikit-learn/scikit-learn/issues/21755 */display: inline-block !important;position: relative;}#sk-container-id-1 div.sk-text-repr-fallback {display: none;}</style><div id=\"sk-container-id-1\" class=\"sk-top-container\"><div class=\"sk-text-repr-fallback\"><pre>LinearRegression()</pre><b>In a Jupyter environment, please rerun this cell to show the HTML representation or trust the notebook. <br />On GitHub, the HTML representation is unable to render, please try loading this page with nbviewer.org.</b></div><div class=\"sk-container\" hidden><div class=\"sk-item\"><div class=\"sk-estimator sk-toggleable\"><input class=\"sk-toggleable__control sk-hidden--visually\" id=\"sk-estimator-id-1\" type=\"checkbox\" checked><label for=\"sk-estimator-id-1\" class=\"sk-toggleable__label sk-toggleable__label-arrow\">LinearRegression</label><div class=\"sk-toggleable__content\"><pre>LinearRegression()</pre></div></div></div></div></div>"
            ],
            "text/plain": [
              "LinearRegression()"
            ]
          },
          "execution_count": 18,
          "metadata": {},
          "output_type": "execute_result"
        }
      ],
      "source": [
        "# Membuat model Linear Regression\n",
        "model_lr = LinearRegression()\n",
        "model_lr.fit(X_train, y_train)"
      ]
    },
    {
      "cell_type": "code",
      "execution_count": 19,
      "metadata": {
        "id": "YkULIZX7YCIW"
      },
      "outputs": [],
      "source": [
        "# Evaluasi model Linear Regression\n",
        "y_pred_lr = model_lr.predict(X_test)\n",
        "mae_lr = mean_absolute_error(y_test, y_pred_lr)\n",
        "mse_lr = mean_squared_error(y_test, y_pred_lr)\n",
        "r2_lr = r2_score(y_test, y_pred_lr)"
      ]
    },
    {
      "cell_type": "code",
      "execution_count": 20,
      "metadata": {
        "colab": {
          "base_uri": "https://localhost:8080/"
        },
        "id": "TFd-IdDUPOSL",
        "outputId": "c13c0ef7-6a27-472c-960b-3378d92b8de8"
      },
      "outputs": [
        {
          "name": "stdout",
          "output_type": "stream",
          "text": [
            "Linear Regression Model Evaluation:\n",
            "Mean Absolute Error: 47.15440207896496\n",
            "Mean Squared Error: 3559.480159604582\n",
            "R-squared: 0.6741504018552007\n"
          ]
        }
      ],
      "source": [
        "# Menampilkan hasil evaluasi\n",
        "print(\"Linear Regression Model Evaluation:\")\n",
        "print(f'Mean Absolute Error: {mae_lr}')\n",
        "print(f'Mean Squared Error: {mse_lr}')\n",
        "print(f'R-squared: {r2_lr}')"
      ]
    },
    {
      "cell_type": "markdown",
      "metadata": {
        "id": "WHYTD_ymdmt4"
      },
      "source": [
        "Random Forest :"
      ]
    },
    {
      "cell_type": "code",
      "execution_count": 22,
      "metadata": {
        "colab": {
          "base_uri": "https://localhost:8080/",
          "height": 75
        },
        "id": "ewr_8EUBb_24",
        "outputId": "3f8125a6-c134-4c99-e5e8-22aecc30befa"
      },
      "outputs": [
        {
          "data": {
            "text/html": [
              "<style>#sk-container-id-2 {color: black;background-color: white;}#sk-container-id-2 pre{padding: 0;}#sk-container-id-2 div.sk-toggleable {background-color: white;}#sk-container-id-2 label.sk-toggleable__label {cursor: pointer;display: block;width: 100%;margin-bottom: 0;padding: 0.3em;box-sizing: border-box;text-align: center;}#sk-container-id-2 label.sk-toggleable__label-arrow:before {content: \"▸\";float: left;margin-right: 0.25em;color: #696969;}#sk-container-id-2 label.sk-toggleable__label-arrow:hover:before {color: black;}#sk-container-id-2 div.sk-estimator:hover label.sk-toggleable__label-arrow:before {color: black;}#sk-container-id-2 div.sk-toggleable__content {max-height: 0;max-width: 0;overflow: hidden;text-align: left;background-color: #f0f8ff;}#sk-container-id-2 div.sk-toggleable__content pre {margin: 0.2em;color: black;border-radius: 0.25em;background-color: #f0f8ff;}#sk-container-id-2 input.sk-toggleable__control:checked~div.sk-toggleable__content {max-height: 200px;max-width: 100%;overflow: auto;}#sk-container-id-2 input.sk-toggleable__control:checked~label.sk-toggleable__label-arrow:before {content: \"▾\";}#sk-container-id-2 div.sk-estimator input.sk-toggleable__control:checked~label.sk-toggleable__label {background-color: #d4ebff;}#sk-container-id-2 div.sk-label input.sk-toggleable__control:checked~label.sk-toggleable__label {background-color: #d4ebff;}#sk-container-id-2 input.sk-hidden--visually {border: 0;clip: rect(1px 1px 1px 1px);clip: rect(1px, 1px, 1px, 1px);height: 1px;margin: -1px;overflow: hidden;padding: 0;position: absolute;width: 1px;}#sk-container-id-2 div.sk-estimator {font-family: monospace;background-color: #f0f8ff;border: 1px dotted black;border-radius: 0.25em;box-sizing: border-box;margin-bottom: 0.5em;}#sk-container-id-2 div.sk-estimator:hover {background-color: #d4ebff;}#sk-container-id-2 div.sk-parallel-item::after {content: \"\";width: 100%;border-bottom: 1px solid gray;flex-grow: 1;}#sk-container-id-2 div.sk-label:hover label.sk-toggleable__label {background-color: #d4ebff;}#sk-container-id-2 div.sk-serial::before {content: \"\";position: absolute;border-left: 1px solid gray;box-sizing: border-box;top: 0;bottom: 0;left: 50%;z-index: 0;}#sk-container-id-2 div.sk-serial {display: flex;flex-direction: column;align-items: center;background-color: white;padding-right: 0.2em;padding-left: 0.2em;position: relative;}#sk-container-id-2 div.sk-item {position: relative;z-index: 1;}#sk-container-id-2 div.sk-parallel {display: flex;align-items: stretch;justify-content: center;background-color: white;position: relative;}#sk-container-id-2 div.sk-item::before, #sk-container-id-2 div.sk-parallel-item::before {content: \"\";position: absolute;border-left: 1px solid gray;box-sizing: border-box;top: 0;bottom: 0;left: 50%;z-index: -1;}#sk-container-id-2 div.sk-parallel-item {display: flex;flex-direction: column;z-index: 1;position: relative;background-color: white;}#sk-container-id-2 div.sk-parallel-item:first-child::after {align-self: flex-end;width: 50%;}#sk-container-id-2 div.sk-parallel-item:last-child::after {align-self: flex-start;width: 50%;}#sk-container-id-2 div.sk-parallel-item:only-child::after {width: 0;}#sk-container-id-2 div.sk-dashed-wrapped {border: 1px dashed gray;margin: 0 0.4em 0.5em 0.4em;box-sizing: border-box;padding-bottom: 0.4em;background-color: white;}#sk-container-id-2 div.sk-label label {font-family: monospace;font-weight: bold;display: inline-block;line-height: 1.2em;}#sk-container-id-2 div.sk-label-container {text-align: center;}#sk-container-id-2 div.sk-container {/* jupyter's `normalize.less` sets `[hidden] { display: none; }` but bootstrap.min.css set `[hidden] { display: none !important; }` so we also need the `!important` here to be able to override the default hidden behavior on the sphinx rendered scikit-learn.org. See: https://github.com/scikit-learn/scikit-learn/issues/21755 */display: inline-block !important;position: relative;}#sk-container-id-2 div.sk-text-repr-fallback {display: none;}</style><div id=\"sk-container-id-2\" class=\"sk-top-container\"><div class=\"sk-text-repr-fallback\"><pre>RandomForestRegressor()</pre><b>In a Jupyter environment, please rerun this cell to show the HTML representation or trust the notebook. <br />On GitHub, the HTML representation is unable to render, please try loading this page with nbviewer.org.</b></div><div class=\"sk-container\" hidden><div class=\"sk-item\"><div class=\"sk-estimator sk-toggleable\"><input class=\"sk-toggleable__control sk-hidden--visually\" id=\"sk-estimator-id-2\" type=\"checkbox\" checked><label for=\"sk-estimator-id-2\" class=\"sk-toggleable__label sk-toggleable__label-arrow\">RandomForestRegressor</label><div class=\"sk-toggleable__content\"><pre>RandomForestRegressor()</pre></div></div></div></div></div>"
            ],
            "text/plain": [
              "RandomForestRegressor()"
            ]
          },
          "execution_count": 22,
          "metadata": {},
          "output_type": "execute_result"
        }
      ],
      "source": [
        "# Membuat model Random Forest\n",
        "model_rf = RandomForestRegressor()\n",
        "model_rf.fit(X_train, y_train)"
      ]
    },
    {
      "cell_type": "code",
      "execution_count": 23,
      "metadata": {
        "id": "PyeZbtM9dGGJ"
      },
      "outputs": [],
      "source": [
        "# Evaluasi model Random Forest\n",
        "y_pred_rf = model_rf.predict(X_test)\n",
        "mae_rf = mean_absolute_error(y_test, y_pred_rf)\n",
        "mse_rf = mean_squared_error(y_test, y_pred_rf)\n",
        "r2_rf = r2_score(y_test, y_pred_rf)"
      ]
    },
    {
      "cell_type": "code",
      "execution_count": 24,
      "metadata": {
        "colab": {
          "base_uri": "https://localhost:8080/"
        },
        "id": "quyFeuh7cBQJ",
        "outputId": "f0ea6a2b-c869-4aa5-d990-177ac13ee163"
      },
      "outputs": [
        {
          "name": "stdout",
          "output_type": "stream",
          "text": [
            "\n",
            "Random Forest Model Evaluation:\n",
            "Mean Absolute Error: 52.74244452760502\n",
            "Mean Squared Error: 4148.642711368883\n",
            "R-squared: 0.620216014774451\n"
          ]
        }
      ],
      "source": [
        "# Menampilkan hasil evaluasi\n",
        "print(\"\\nRandom Forest Model Evaluation:\")\n",
        "print(f'Mean Absolute Error: {mae_rf}')\n",
        "print(f'Mean Squared Error: {mse_rf}')\n",
        "print(f'R-squared: {r2_rf}')"
      ]
    }
  ],
  "metadata": {
    "colab": {
      "provenance": []
    },
    "kernelspec": {
      "display_name": "Python 3",
      "name": "python3"
    },
    "language_info": {
      "codemirror_mode": {
        "name": "ipython",
        "version": 3
      },
      "file_extension": ".py",
      "mimetype": "text/x-python",
      "name": "python",
      "nbconvert_exporter": "python",
      "pygments_lexer": "ipython3",
      "version": "3.10.0"
    }
  },
  "nbformat": 4,
  "nbformat_minor": 0
}
